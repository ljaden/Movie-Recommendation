{
  "nbformat": 4,
  "nbformat_minor": 0,
  "metadata": {
    "colab": {
      "name": "Movie Recommender.ipynb",
      "provenance": [],
      "collapsed_sections": []
    },
    "kernelspec": {
      "name": "python3",
      "display_name": "Python 3"
    }
  },
  "cells": [
    {
      "cell_type": "code",
      "metadata": {
        "id": "VqGyO7EXMmlX"
      },
      "source": [
        "!apt-get install openjdk-8-jdk-headless -qq > /dev/null\n",
        "!wget -q https://downloads.apache.org/spark/spark-2.4.7/spark-2.4.7-bin-hadoop2.7.tgz\n",
        "!tar xf spark-2.4.7-bin-hadoop2.7.tgz\n",
        "!pip install -q findspark"
      ],
      "execution_count": null,
      "outputs": []
    },
    {
      "cell_type": "code",
      "metadata": {
        "id": "H7Rn6ZU0MsKV"
      },
      "source": [
        "import os\n",
        "os.environ[\"JAVA_HOME\"] = \"/usr/lib/jvm/java-1.8.0-openjdk-amd64\"\n",
        "os.environ[\"SPARK_HOME\"] = \"/content/spark-2.4.7-bin-hadoop2.7\""
      ],
      "execution_count": null,
      "outputs": []
    },
    {
      "cell_type": "code",
      "metadata": {
        "id": "Q_uEThvQMteE"
      },
      "source": [
        "import findspark\n",
        "findspark.init()\n",
        "\n",
        "from pyspark.sql import SparkSession\n",
        "from pyspark.sql.functions import *\n",
        "from pyspark.sql.window import Window as W\n",
        "from pyspark.sql import functions as F\n",
        "\n",
        "import pandas as pd\n",
        "\n",
        "\n",
        "import requests\n",
        "import os\n",
        "import json\n",
        "import textwrap\n",
        "\n",
        "import PIL\n",
        "import urllib\n",
        "from getpass import getpass\n",
        "import random\n",
        "\n",
        "from pyspark.ml.evaluation import RegressionEvaluator\n",
        "from pyspark.ml.recommendation import ALS\n",
        "from pyspark.ml.tuning import ParamGridBuilder, CrossValidator"
      ],
      "execution_count": 48,
      "outputs": []
    },
    {
      "cell_type": "code",
      "metadata": {
        "id": "MrecGsfoM8f0",
        "colab": {
          "base_uri": "https://localhost:8080/"
        },
        "outputId": "dedafa08-738e-4117-c3a2-6740349b150b"
      },
      "source": [
        "# initializing SparkSession\n",
        "\n",
        "spark = SparkSession.builder.appName('MovieLensRecommender').getOrCreate()\n",
        "\n",
        "#apikey\n",
        "api_key = getpass('tmbd api key :')"
      ],
      "execution_count": 34,
      "outputs": [
        {
          "output_type": "stream",
          "text": [
            "tmbd api key :··········\n"
          ],
          "name": "stdout"
        }
      ]
    },
    {
      "cell_type": "code",
      "metadata": {
        "id": "qaew6Ohfu1tl",
        "colab": {
          "base_uri": "https://localhost:8080/"
        },
        "outputId": "32e11f3a-daf3-421e-c00b-fe31144263a4"
      },
      "source": [
        "# download MovieLens dataset\n",
        "\n",
        "!wget https://files.grouplens.org/datasets/movielens/ml-latest-small.zip --no-check-certificate\n",
        "!unzip /content/ml-latest-small.zip\n",
        "!ls"
      ],
      "execution_count": null,
      "outputs": [
        {
          "output_type": "stream",
          "text": [
            "--2021-05-17 14:05:38--  https://files.grouplens.org/datasets/movielens/ml-latest-small.zip\n",
            "Resolving files.grouplens.org (files.grouplens.org)... 128.101.65.152\n",
            "Connecting to files.grouplens.org (files.grouplens.org)|128.101.65.152|:443... connected.\n",
            "WARNING: cannot verify files.grouplens.org's certificate, issued by ‘CN=InCommon RSA Server CA,OU=InCommon,O=Internet2,L=Ann Arbor,ST=MI,C=US’:\n",
            "  Unable to locally verify the issuer's authority.\n",
            "HTTP request sent, awaiting response... 200 OK\n",
            "Length: 978202 (955K) [application/zip]\n",
            "Saving to: ‘ml-latest-small.zip’\n",
            "\n",
            "ml-latest-small.zip 100%[===================>] 955.28K  4.64MB/s    in 0.2s    \n",
            "\n",
            "2021-05-17 14:05:39 (4.64 MB/s) - ‘ml-latest-small.zip’ saved [978202/978202]\n",
            "\n",
            "Archive:  /content/ml-latest-small.zip\n",
            "   creating: ml-latest-small/\n",
            "  inflating: ml-latest-small/links.csv  \n",
            "  inflating: ml-latest-small/tags.csv  \n",
            "  inflating: ml-latest-small/ratings.csv  \n",
            "  inflating: ml-latest-small/README.txt  \n",
            "  inflating: ml-latest-small/movies.csv  \n",
            "ml-latest-small      sample_data\t\tspark-2.4.7-bin-hadoop2.7.tgz\n",
            "ml-latest-small.zip  spark-2.4.7-bin-hadoop2.7\n"
          ],
          "name": "stdout"
        }
      ]
    },
    {
      "cell_type": "code",
      "metadata": {
        "id": "GPildtWlOKsG"
      },
      "source": [
        "def load_data():\n",
        "    \n",
        "    ratings = spark.read.csv('/content/ml-latest-small/ratings.csv',header=True)\n",
        "    movies = spark.read.csv('/content/ml-latest-small/movies.csv',header=True)\n",
        "    links = spark.read.csv('/content/ml-latest-small/links.csv',header=True)\n",
        "    tags = spark.read.csv('/content/ml-latest-small/tags.csv',header=True)\n",
        "    \n",
        "    df = ratings.join(movies,on='movieId',how='left')\n",
        "    df = df.join(links,on='movieId',how='left')\n",
        "    df = df.join(tags.select('movieId','tag'), on='movieId',how='left')\n",
        "    \n",
        "    \n",
        "    return df"
      ],
      "execution_count": null,
      "outputs": []
    },
    {
      "cell_type": "code",
      "metadata": {
        "id": "6UZ2RZUjPNUx",
        "colab": {
          "base_uri": "https://localhost:8080/"
        },
        "outputId": "9c19180a-27cc-4674-c002-e7614a3c04a3"
      },
      "source": [
        "load_data().show()"
      ],
      "execution_count": null,
      "outputs": [
        {
          "output_type": "stream",
          "text": [
            "+-------+------+------+---------+--------------------+--------------------+-------+------+---------------+\n",
            "|movieId|userId|rating|timestamp|               title|              genres| imdbId|tmdbId|            tag|\n",
            "+-------+------+------+---------+--------------------+--------------------+-------+------+---------------+\n",
            "|      1|     1|   4.0|964982703|    Toy Story (1995)|Adventure|Animati...|0114709|   862|            fun|\n",
            "|      1|     1|   4.0|964982703|    Toy Story (1995)|Adventure|Animati...|0114709|   862|          pixar|\n",
            "|      1|     1|   4.0|964982703|    Toy Story (1995)|Adventure|Animati...|0114709|   862|          pixar|\n",
            "|      3|     1|   4.0|964981247|Grumpier Old Men ...|      Comedy|Romance|0113228| 15602|            old|\n",
            "|      3|     1|   4.0|964981247|Grumpier Old Men ...|      Comedy|Romance|0113228| 15602|          moldy|\n",
            "|      6|     1|   4.0|964982224|         Heat (1995)|Action|Crime|Thri...|0113277|   949|           null|\n",
            "|     47|     1|   5.0|964983815|Seven (a.k.a. Se7...|    Mystery|Thriller|0114369|   807|  serial killer|\n",
            "|     47|     1|   5.0|964983815|Seven (a.k.a. Se7...|    Mystery|Thriller|0114369|   807|   twist ending|\n",
            "|     47|     1|   5.0|964983815|Seven (a.k.a. Se7...|    Mystery|Thriller|0114369|   807|        mystery|\n",
            "|     50|     1|   5.0|964982931|Usual Suspects, T...|Crime|Mystery|Thr...|0114814|   629|          heist|\n",
            "|     50|     1|   5.0|964982931|Usual Suspects, T...|Crime|Mystery|Thr...|0114814|   629|   twist ending|\n",
            "|     50|     1|   5.0|964982931|Usual Suspects, T...|Crime|Mystery|Thr...|0114814|   629|         tricky|\n",
            "|     50|     1|   5.0|964982931|Usual Suspects, T...|Crime|Mystery|Thr...|0114814|   629|       thriller|\n",
            "|     50|     1|   5.0|964982931|Usual Suspects, T...|Crime|Mystery|Thr...|0114814|   629|       suspense|\n",
            "|     50|     1|   5.0|964982931|Usual Suspects, T...|Crime|Mystery|Thr...|0114814|   629|       mindfuck|\n",
            "|     70|     1|   3.0|964982400|From Dusk Till Da...|Action|Comedy|Hor...|0116367|   755|           null|\n",
            "|    101|     1|   5.0|964980868|Bottle Rocket (1996)|Adventure|Comedy|...|0115734| 13685|         quirky|\n",
            "|    101|     1|   5.0|964980868|Bottle Rocket (1996)|Adventure|Comedy|...|0115734| 13685|off-beat comedy|\n",
            "|    101|     1|   5.0|964980868|Bottle Rocket (1996)|Adventure|Comedy|...|0115734| 13685|          crime|\n",
            "|    110|     1|   4.0|964982176|   Braveheart (1995)|    Action|Drama|War|0112573|   197|       Scotland|\n",
            "+-------+------+------+---------+--------------------+--------------------+-------+------+---------------+\n",
            "only showing top 20 rows\n",
            "\n"
          ],
          "name": "stdout"
        }
      ]
    },
    {
      "cell_type": "code",
      "metadata": {
        "id": "-og3flYaOSnL",
        "colab": {
          "base_uri": "https://localhost:8080/"
        },
        "outputId": "5131afa8-009b-48aa-eede-14b2e61ade93"
      },
      "source": [
        "def get_sparsity(data):\n",
        "    \"\"\"\n",
        "    Returns sparsity of dataframe  \n",
        "    \n",
        "    (1.0- (# of non-null ratings * 1.0)     /     (# of unique movies * # of uniqe users)) * 100\n",
        "    \"\"\"\n",
        "    return (1.0 -((data.select('rating').count() *1.0)/(data.select('movieId').distinct().count()*data.select('userId').distinct().count())))* 100\n",
        "\n",
        "get_sparsity(load_data())"
      ],
      "execution_count": null,
      "outputs": [
        {
          "output_type": "execute_result",
          "data": {
            "text/plain": [
              "95.18241160960544"
            ]
          },
          "metadata": {
            "tags": []
          },
          "execution_count": 8
        }
      ]
    },
    {
      "cell_type": "code",
      "metadata": {
        "id": "0jlkxqpaP478"
      },
      "source": [
        "def top_rated(data):\n",
        "    \"\"\"\n",
        "    returns a dataframe of tmdbIds with more than 1500 ratings\n",
        "    \"\"\"\n",
        "    df = data.groupBy('tmdbId').count().sort('count',ascending=False).filter(col('count')>1500)\n",
        "    \n",
        "    return df\n"
      ],
      "execution_count": null,
      "outputs": []
    },
    {
      "cell_type": "code",
      "metadata": {
        "id": "4REE92x0P8CD"
      },
      "source": [
        "def als_recommendation(data):\n",
        "    \"\"\"\n",
        "    returns prediction\n",
        "    \"\"\"    \n",
        "    # changing Dtype of 'userID','movieId', and 'rating'\n",
        "    # data = data.select(data.userId.cast(\"integer\"), data.movieId.cast(\"integer\"), data.rating.cast(\"double\"))\n",
        "    # split dat into 70/30\n",
        "    (train, test) = data.randomSplit([0.7,0.3], seed = 9)\n",
        "    \n",
        "    #create ALS model\n",
        "    als = ALS(userCol=\"userId\", itemCol=\"movieId\", ratingCol=\"rating\", nonnegative = True, implicitPrefs = False,coldStartStrategy='drop')\n",
        "    \n",
        "    # model = als.fit(train)\n",
        "    # pred = model.transform(test)\n",
        "    \n",
        "    return als\n"
      ],
      "execution_count": null,
      "outputs": []
    },
    {
      "cell_type": "code",
      "metadata": {
        "id": "1MS1GsI7QInD"
      },
      "source": [
        "def searchmovie(title,year,api = api_key):\n",
        "    \"\"\"\n",
        "    Takes 2 arguements(title of movie, year of release) will return a tuple\n",
        "    of the Title of Movie and its TMDB ID (IF FOUND) \n",
        "    \"\"\"\n",
        "    params = {'api_key' : api,\n",
        "             'query' :title,\n",
        "             'year':year}\n",
        "    response = requests.get(f'https://api.themoviedb.org/3/search/movie', params = params)\n",
        "    if response.ok:\n",
        "        try:\n",
        "            content = json.loads(response.content)\n",
        "            movie_title = content['results'][0]['title']\n",
        "            movie_id = content['results'][0]['id']\n",
        "            # print(f'Found {movie_title} with ID {movie_id}')\n",
        "            print(content)\n",
        "            return movie_id,movie_title\n",
        "        except:\n",
        "            return None\n",
        "    else:\n",
        "        print(\"Bad Response\")\n",
        "        print(response.content)\n",
        "        return None"
      ],
      "execution_count": null,
      "outputs": []
    },
    {
      "cell_type": "code",
      "metadata": {
        "id": "tgBRYq8RTS62"
      },
      "source": [
        "def parse_movie_details(movie):\n",
        "    \"\"\"\n",
        "    parsing the returned json\n",
        "    \"\"\"\n",
        "    movie_data = {}\n",
        "    movie_data['tmdb_id'] = movie['id']\n",
        "    movie_data['title'] = movie['title'] if 'title' in movie.keys() else None\n",
        "    movie_data['budget'] = movie['budget'] if 'budget' in movie.keys() else None\n",
        "    movie_data['revenue'] = movie['revenue'] if 'revenue' in movie.keys() else None\n",
        "    movie_data['popularity'] = movie['popularity'] if 'popularity' in movie.keys() else None\n",
        "    movie_data['imdb_id'] = movie['imdb_id'] if 'imdb_id' in movie.keys() else None\n",
        "    movie_data['release_date'] = movie['release_date'] if 'release_date' in movie.keys() else None\n",
        "    movie_data['poster_path'] = movie['poster_path'] if 'poster_path' in movie.keys() else None\n",
        "\n",
        "    movie_data['production'] = parse_production(movie['production_companies']) if 'production_companies' in movie.keys() else None\n",
        "    \n",
        "    movie_data['runtime'] = movie['runtime'] if 'runtime' in movie.keys() else None\n",
        "    movie_data['genres'] = parse_genres(movie['genres']) if 'genres' in movie.keys() else ''\n",
        "    movie_data['dom_gross'] = movie['revenue'] if 'revenue' in movie.keys() else None\n",
        "    return movie_data\n",
        "\n",
        "def parse_genres(genre_data):\n",
        "    genre_names = []\n",
        "    for item in genre_data:\n",
        "        if 'name' in item.keys():\n",
        "            genre_names.append(item['name'])\n",
        "    return ','.join(genre_names)\n",
        "#     return genre_names\n",
        "    \n",
        "    \n",
        "def parse_production(production_data):\n",
        "    production = []\n",
        "    for item in production_data:\n",
        "        if 'name' in item.keys():\n",
        "            production.append(item['name'])\n",
        "    return ','.join(production)\n",
        "#     return production"
      ],
      "execution_count": null,
      "outputs": []
    },
    {
      "cell_type": "code",
      "metadata": {
        "id": "-jiLnLxpQKcS"
      },
      "source": [
        "def get_movie_details(movieID,api = api_key):\n",
        "    \"\"\"\n",
        "    When passed a movieID, if valid, makes a request to the API and returns a detailed info on that movie\n",
        "    \"\"\"\n",
        "    response = requests.get(f'https://api.themoviedb.org/3/movie/{movieID}?api_key={api}&language=en-US')\n",
        "    if response.ok:\n",
        "        try:\n",
        "            content = json.loads(response.content)\n",
        "            return json.loads(response.content)\n",
        "        except:\n",
        "            return None\n",
        "    else:\n",
        "        return None"
      ],
      "execution_count": null,
      "outputs": []
    },
    {
      "cell_type": "code",
      "metadata": {
        "colab": {
          "base_uri": "https://localhost:8080/"
        },
        "id": "-Y5Q3r_206pU",
        "outputId": "e7e5709b-a617-4750-86c4-736ae2430331"
      },
      "source": [
        "get_movie_details(111)"
      ],
      "execution_count": 41,
      "outputs": [
        {
          "output_type": "execute_result",
          "data": {
            "text/plain": [
              "{'adult': False,\n",
              " 'backdrop_path': '/cCvp5Sni75agCtyJkNOMapORUQV.jpg',\n",
              " 'belongs_to_collection': None,\n",
              " 'budget': 25000000,\n",
              " 'genres': [{'id': 28, 'name': 'Action'},\n",
              "  {'id': 80, 'name': 'Crime'},\n",
              "  {'id': 18, 'name': 'Drama'},\n",
              "  {'id': 53, 'name': 'Thriller'}],\n",
              " 'homepage': '',\n",
              " 'id': 111,\n",
              " 'imdb_id': 'tt0086250',\n",
              " 'original_language': 'en',\n",
              " 'original_title': 'Scarface',\n",
              " 'overview': 'After getting a green card in exchange for assassinating a Cuban government official, Tony Montana stakes a claim on the drug trade in Miami. Viciously murdering anyone who stands in his way, Tony eventually becomes the biggest drug lord in the state, controlling nearly all the cocaine that comes through Miami. But increased pressure from the police, wars with Colombian drug cartels and his own drug-fueled paranoia serve to fuel the flames of his eventual downfall.',\n",
              " 'popularity': 31.224,\n",
              " 'poster_path': '/iQ5ztdjvteGeboxtmRdXEChJOHh.jpg',\n",
              " 'production_companies': [{'id': 33,\n",
              "   'logo_path': '/8lvHyhjr8oUKOOy2dKXoALWKdp0.png',\n",
              "   'name': 'Universal Pictures',\n",
              "   'origin_country': 'US'}],\n",
              " 'production_countries': [{'iso_3166_1': 'US',\n",
              "   'name': 'United States of America'}],\n",
              " 'release_date': '1983-12-09',\n",
              " 'revenue': 66023329,\n",
              " 'runtime': 170,\n",
              " 'spoken_languages': [{'english_name': 'English',\n",
              "   'iso_639_1': 'en',\n",
              "   'name': 'English'},\n",
              "  {'english_name': 'Spanish', 'iso_639_1': 'es', 'name': 'Español'}],\n",
              " 'status': 'Released',\n",
              " 'tagline': 'The world is yours...',\n",
              " 'title': 'Scarface',\n",
              " 'video': False,\n",
              " 'vote_average': 8.1,\n",
              " 'vote_count': 8221}"
            ]
          },
          "metadata": {
            "tags": []
          },
          "execution_count": 41
        }
      ]
    },
    {
      "cell_type": "code",
      "metadata": {
        "id": "lod0dk50QN4b"
      },
      "source": [
        "# def poster(tmdb_id):\n",
        "#     \"\"\"\n",
        "#     returns poster\n",
        "\n",
        "#     \"\"\"\n",
        "#     movie = get_movie_details(tmdb_id)\n",
        "#     link = movie['poster_path'] if 'poster_path' in movie.keys() else None\n",
        "    \n",
        "    \n",
        "#     urllib.request.urlretrieve(f'https://image.tmdb.org/t/p/original/{link}','poster.jpg')\n",
        "#     img = PIL.Image.open('poster.jpg')\n",
        "#     return img.show()"
      ],
      "execution_count": null,
      "outputs": []
    },
    {
      "cell_type": "code",
      "metadata": {
        "id": "GfZEBJsnRyNq"
      },
      "source": [
        "def poster(tmdb_id):\n",
        "    \"\"\"\n",
        "    returns poster\n",
        "\n",
        "    \"\"\"\n",
        "    movie = get_movie_details(tmdb_id)\n",
        "    link = movie['poster_path'] if 'poster_path' in movie.keys() else None\n",
        "    \n",
        "    print(f'https://image.tmdb.org/t/p/original/{link}')"
      ],
      "execution_count": null,
      "outputs": []
    },
    {
      "cell_type": "code",
      "metadata": {
        "colab": {
          "base_uri": "https://localhost:8080/"
        },
        "id": "KzY47_tF1KQo",
        "outputId": "e3fc41f8-f08c-4023-dfbe-1b7c7d29740f"
      },
      "source": [
        "poster(111)"
      ],
      "execution_count": 42,
      "outputs": [
        {
          "output_type": "stream",
          "text": [
            "https://image.tmdb.org/t/p/original//iQ5ztdjvteGeboxtmRdXEChJOHh.jpg\n"
          ],
          "name": "stdout"
        }
      ]
    },
    {
      "cell_type": "code",
      "metadata": {
        "id": "l6tgBFm5Sr0Z"
      },
      "source": [
        "def random_pick(data):\n",
        "    # list of tmdbIds with more than 1500 ratings\n",
        "    toprated_tmdbIds = [int(i.tmdbId) for i in top_rated(data).collect()]\n",
        "    \n",
        "    # randomly pick 5 tmdbIds\n",
        "    return(random.choice(toprated_tmdbIds))"
      ],
      "execution_count": null,
      "outputs": []
    },
    {
      "cell_type": "code",
      "metadata": {
        "id": "cFOB4QyPTEFI"
      },
      "source": [
        "def main():\n",
        "    #Creating a new userId\n",
        "    new_user_ID = 0\n",
        "\n",
        "    # # load data\n",
        "    df = load_data()\n",
        "\n",
        "    # remove titles with <25 reviews\n",
        "    df = df.withColumn(\"count\", F.count(\"title\").over(W.partitionBy('title')))\\\n",
        "    .filter(F.col(\"count\") > 25).drop(\"count\")\n",
        "\n",
        "    #######Cold-Start User Survey###################################\n",
        "    lst = [] \n",
        "    past_id = []\n",
        "    while len(lst) < 5 :\n",
        "        random_id = random_pick(df)\n",
        "        if random_id in past_id:\n",
        "            continue\n",
        "        else:\n",
        "            print(f\"Title : {get_movie_details(random_id)['title']}\")\n",
        "            print(f\"Genre : {df.filter(col('tmdbId')== random_id).select('genres').collect()[0][0]}\")\n",
        "            poster(random_id)\n",
        "            print('\\nSummary : ')\n",
        "            print(\"\\n\".join(textwrap.wrap(get_movie_details(random_id)['overview'],100)))\n",
        "            rating = float(input('Rate this movie 1 to 5: '))\n",
        "            print('\\n')\n",
        "            if (rating in range(0,6) ):    \n",
        "                lst.append((new_user_ID,random_id,rating))\n",
        "                past_id.append(random_id)\n",
        "            else:\n",
        "                continue\n",
        "    #######Cold-Start User Survey###################################\n",
        "    print(lst)\n",
        "    # lst = [(0, 27205, 4.0), (0, 13, 3.0), (0, 11, 2.0), (0, 19995, 5.0), (0, 680, 4.0)]\n",
        "\n",
        "    lst_rdd = spark.sparkContext.parallelize(lst)\n",
        "    lst_rdd = spark.createDataFrame(lst,['userId','movieId','rating'])\n",
        "    \n",
        "    df = df.select(df.userId.cast(\"integer\"), df.movieId.cast(\"integer\"), df.rating.cast(\"double\"))\n",
        "    \n",
        "    df = df.union(lst_rdd)\n",
        "\n",
        "    \n",
        "    # # Create test and train set\n",
        "    (train, test) = df.randomSplit([0.8, 0.2])\n",
        "    \n",
        "    # # Create ALS model\n",
        "    als = ALS(userCol=\"userId\", itemCol=\"movieId\", ratingCol=\"rating\", nonnegative = True, implicitPrefs = False,coldStartStrategy='drop')\n",
        "\n",
        "    model = als.fit(train)\n",
        "    \n",
        "    pred = model.transform(test)\n",
        "    evaluator = RegressionEvaluator(metricName='rmse',labelCol='rating',predictionCol= 'prediction')\n",
        "    rmse = evaluator.evaluate (pred)\n",
        "    print(rmse)\n",
        "    \n",
        "    # Generate 5 movie recommendations for each user\n",
        "    userRecs = model.recommendForAllUsers(10)\n",
        "    \n",
        "    # Creating a temp table to store recommendation\n",
        "    userRecs.registerTempTable('temp_table')\n",
        "    \n",
        "    rec_table = spark.sql('SELECT userId,\\\n",
        "                            movieIds_and_ratings.movieId AS movieId, \\\n",
        "                            movieIds_and_ratings.rating AS prediction \\\n",
        "                    FROM temp_table\\\n",
        "                    LATERAL VIEW explode(recommendations) exploded_table AS movieIds_and_ratings')\n",
        "    \n",
        "    rec_table.filter(col('userId') == 0).show()\n",
        "\n",
        "    list_of_recc_movies = rec_table.filter(col('userId') == 0).select('movieId').collect()\n",
        "    \n",
        "    for i in list_of_recc_movies:\n",
        "      try: \n",
        "\n",
        "        print(get_movie_details(i[0])['title'])\n",
        "        print(f\"Title : {get_movie_details(i[0])['title']}\")\n",
        "        poster(i[0])\n",
        "        print('\\nSummary : ')\n",
        "        print(\"\\n\".join(textwrap.wrap(get_movie_details(i[0])['overview'],100)))\n",
        "        print(\"\\n\")\n",
        "        print(\"--------------------------------------------------------------------------------------------------\")\n",
        "\n",
        "      except:\n",
        "        print(load_data().where(col('movieId') == i[0]).select('title').distinct().collect()[0].asDict()['title'])\n",
        "        print(\"---------------------------------------------------------------------------------------------------\")"
      ],
      "execution_count": 37,
      "outputs": []
    },
    {
      "cell_type": "code",
      "metadata": {
        "id": "5WuFLj9b00KM",
        "colab": {
          "base_uri": "https://localhost:8080/"
        },
        "outputId": "690ead0c-fc99-446c-c1a9-d97962e5ec5c"
      },
      "source": [
        "main()"
      ],
      "execution_count": 38,
      "outputs": [
        {
          "output_type": "stream",
          "text": [
            "Title : Avatar\n",
            "Genre : Action|Adventure|Sci-Fi|IMAX\n",
            "https://image.tmdb.org/t/p/original//6EiRUJpuoeQPghrs3YNktfnqOVh.jpg\n",
            "\n",
            "Summary : \n",
            "In the 22nd century, a paraplegic Marine is dispatched to the moon Pandora on a unique mission, but\n",
            "becomes torn between following orders and protecting an alien civilization.\n",
            "Rate this movie 1 to 5: 4\n",
            "\n",
            "\n",
            "Title : Braveheart\n",
            "Genre : Action|Drama|War\n",
            "https://image.tmdb.org/t/p/original//or1gBugydmjToAEq7OZY0owwFk.jpg\n",
            "\n",
            "Summary : \n",
            "Enraged at the slaughter of Murron, his new bride and childhood love, Scottish warrior William\n",
            "Wallace slays a platoon of the local English lord's soldiers. This leads the village to revolt and,\n",
            "eventually, the entire country to rise up against English rule.\n",
            "Rate this movie 1 to 5: 5\n",
            "\n",
            "\n",
            "Title : Forrest Gump\n",
            "Genre : Comedy|Drama|Romance|War\n",
            "https://image.tmdb.org/t/p/original//h5J4W4veyxMXDMjeNxZI46TsHOb.jpg\n",
            "\n",
            "Summary : \n",
            "A man with a low IQ has accomplished great things in his life and been present during significant\n",
            "historic events—in each case, far exceeding what anyone imagined he could do. But despite all he has\n",
            "achieved, his one true love eludes him.\n",
            "Rate this movie 1 to 5: 5\n",
            "\n",
            "\n",
            "Title : Léon: The Professional\n",
            "Genre : Action|Crime|Drama|Thriller\n",
            "https://image.tmdb.org/t/p/original//wHqGb8J6tXBVwjqWooGMtNEjs2A.jpg\n",
            "\n",
            "Summary : \n",
            "Léon, the top hit man in New York, has earned a rep as an effective \"cleaner\". But when his next-\n",
            "door neighbors are wiped out by a loose-cannon DEA agent, he becomes the unwilling custodian of\n",
            "12-year-old Mathilda. Before long, Mathilda's thoughts turn to revenge, and she considers following\n",
            "in Léon's footsteps.\n",
            "Rate this movie 1 to 5: 3\n",
            "\n",
            "\n",
            "Title : Fight Club\n",
            "Genre : Action|Crime|Drama|Thriller\n",
            "https://image.tmdb.org/t/p/original//pB8BM7pdSp6B6Ih7QZ4DrQ3PmJK.jpg\n",
            "\n",
            "Summary : \n",
            "A ticking-time-bomb insomniac and a slippery soap salesman channel primal male aggression into a\n",
            "shocking new form of therapy. Their concept catches on, with underground \"fight clubs\" forming in\n",
            "every town, until an eccentric gets in the way and ignites an out-of-control spiral toward oblivion.\n",
            "Rate this movie 1 to 5: 5\n",
            "\n",
            "\n",
            "[(0, 19995, 4.0), (0, 197, 5.0), (0, 13, 5.0), (0, 101, 3.0), (0, 550, 5.0)]\n",
            "0.6127663790666323\n",
            "+------+-------+----------+\n",
            "|userId|movieId|prediction|\n",
            "+------+-------+----------+\n",
            "|     0|    550|  4.881418|\n",
            "|     0|     13|  4.881418|\n",
            "|     0|    197|  4.881418|\n",
            "|     0|  19995|  3.905135|\n",
            "|     0| 106100| 3.8692846|\n",
            "|     0|   6942| 3.5192823|\n",
            "|     0|   3266| 3.5003598|\n",
            "|     0| 108932| 3.4673026|\n",
            "|     0| 158966| 3.4532874|\n",
            "|     0|     39| 3.4383569|\n",
            "+------+-------+----------+\n",
            "\n",
            "Fight Club\n",
            "Title : Fight Club\n",
            "https://image.tmdb.org/t/p/original//pB8BM7pdSp6B6Ih7QZ4DrQ3PmJK.jpg\n",
            "\n",
            "Summary : \n",
            "A ticking-time-bomb insomniac and a slippery soap salesman channel primal male aggression into a\n",
            "shocking new form of therapy. Their concept catches on, with underground \"fight clubs\" forming in\n",
            "every town, until an eccentric gets in the way and ignites an out-of-control spiral toward oblivion.\n",
            "\n",
            "\n",
            "--------------------------------------------------------------------------------------------------\n",
            "Forrest Gump\n",
            "Title : Forrest Gump\n",
            "https://image.tmdb.org/t/p/original//h5J4W4veyxMXDMjeNxZI46TsHOb.jpg\n",
            "\n",
            "Summary : \n",
            "A man with a low IQ has accomplished great things in his life and been present during significant\n",
            "historic events—in each case, far exceeding what anyone imagined he could do. But despite all he has\n",
            "achieved, his one true love eludes him.\n",
            "\n",
            "\n",
            "--------------------------------------------------------------------------------------------------\n",
            "Braveheart\n",
            "Title : Braveheart\n",
            "https://image.tmdb.org/t/p/original//or1gBugydmjToAEq7OZY0owwFk.jpg\n",
            "\n",
            "Summary : \n",
            "Enraged at the slaughter of Murron, his new bride and childhood love, Scottish warrior William\n",
            "Wallace slays a platoon of the local English lord's soldiers. This leads the village to revolt and,\n",
            "eventually, the entire country to rise up against English rule.\n",
            "\n",
            "\n",
            "--------------------------------------------------------------------------------------------------\n",
            "Avatar\n",
            "Title : Avatar\n",
            "https://image.tmdb.org/t/p/original//6EiRUJpuoeQPghrs3YNktfnqOVh.jpg\n",
            "\n",
            "Summary : \n",
            "In the 22nd century, a paraplegic Marine is dispatched to the moon Pandora on a unique mission, but\n",
            "becomes torn between following orders and protecting an alien civilization.\n",
            "\n",
            "\n",
            "--------------------------------------------------------------------------------------------------\n",
            "Mother Goose Melodies\n",
            "Title : Mother Goose Melodies\n",
            "https://image.tmdb.org/t/p/original//fzVi4ysIMJErmF1UVHzU7RxOL3m.jpg\n",
            "\n",
            "Summary : \n",
            "A book of nursery rhymes plays for Old King Cole.\n",
            "\n",
            "\n",
            "--------------------------------------------------------------------------------------------------\n",
            "Love Actually (2003)\n",
            "---------------------------------------------------------------------------------------------------\n",
            "Man Bites Dog (C'est arrivé près de chez vous) (1992)\n",
            "---------------------------------------------------------------------------------------------------\n",
            "The Lego Movie (2014)\n",
            "---------------------------------------------------------------------------------------------------\n",
            "Captain Fantastic (2016)\n",
            "---------------------------------------------------------------------------------------------------\n",
            "Clueless (1995)\n",
            "---------------------------------------------------------------------------------------------------\n"
          ],
          "name": "stdout"
        }
      ]
    },
    {
      "cell_type": "code",
      "metadata": {
        "id": "JmIo4arXGc_C"
      },
      "source": [
        "def main():\n",
        "    #Creating a new userId\n",
        "    new_user_ID = 0\n",
        "\n",
        "    # # load data\n",
        "    df = load_data()\n",
        "\n",
        "    # remove titles with <25 reviews\n",
        "    df = df.withColumn(\"count\", F.count(\"title\").over(W.partitionBy('title')))\\\n",
        "    .filter(F.col(\"count\") > 25).drop(\"count\")\n",
        "\n",
        "    #######Cold-Start User Survey###################################\n",
        "    # lst = [] \n",
        "    # past_id = []\n",
        "    # while len(lst) < 5 :\n",
        "    #     random_id = random_pick(df)\n",
        "    #     if random_id in past_id:\n",
        "    #         continue\n",
        "    #     else:\n",
        "    #         print(f\"Title : {get_movie_details(random_id)['title']}\")\n",
        "    #         print(f\"Genre : {df.filter(col('tmdbId')== random_id).select('genres').collect()[0][0]}\")\n",
        "    #         poster(random_id)\n",
        "    #         print('\\nSummary : ')\n",
        "    #         print(\"\\n\".join(textwrap.wrap(get_movie_details(random_id)['overview'],100)))\n",
        "    #         rating = float(input('Rate this movie 1 to 5: '))\n",
        "    #         print('\\n')\n",
        "    #         if (rating in range(0,6) ):    \n",
        "    #             lst.append((new_user_ID,random_id,rating))\n",
        "    #             past_id.append(random_id)\n",
        "    #         else:\n",
        "    #             continue\n",
        "    #######Cold-Start User Survey###################################\n",
        "\n",
        "    lst = [(0, 27205, 4.0), (0, 13, 3.0), (0, 11, 2.0), (0, 19995, 5.0), (0, 680, 4.0)]\n",
        "\n",
        "    lst_rdd = spark.sparkContext.parallelize(lst)\n",
        "    lst_rdd = spark.createDataFrame(lst,['userId','movieId','rating'])\n",
        "    \n",
        "    df = df.select(df.userId.cast(\"integer\"), df.movieId.cast(\"integer\"), df.rating.cast(\"double\"))\n",
        "    \n",
        "    df = df.union(lst_rdd)\n",
        "\n",
        "    \n",
        "    # # Create test and train set\n",
        "    (train, test) = df.randomSplit([0.8, 0.2], seed = 1234)\n",
        "    \n",
        "    # # Create ALS model\n",
        "    als = ALS(userCol=\"userId\", itemCol=\"movieId\", ratingCol=\"rating\", nonnegative = True, implicitPrefs = False,coldStartStrategy='drop')\n",
        "\n",
        "\n",
        "\n",
        "    #Tune model using ParamGrid\n",
        "    param_grid = ParamGridBuilder() \\\n",
        "            .addGrid(als.rank, [10, 50]) \\\n",
        "            .addGrid(als.regParam, [.01, .05]) \\\n",
        "            .build()\n",
        "    evaluator = RegressionEvaluator(\n",
        "           metricName=\"rmse\", \n",
        "           labelCol=\"rating\", \n",
        "           predictionCol=\"prediction\") \n",
        "    # print (\"Num models to be tested: \", len(param_grid)) #16\n",
        "\n",
        "    # Build cross validation using CrossValidator\n",
        "    cv = CrossValidator(estimator=als, estimatorParamMaps=param_grid, evaluator=evaluator, numFolds=5)\n",
        "\n",
        "    # print(\"**Best Model**\")# Print \"Rank\"\n",
        "    # print(\"  Rank:\", best_model._java_obj.parent().getRank())# Print \"MaxIter\"\n",
        "    # print(\"  MaxIter:\", best_model._java_obj.parent().getMaxIter())# Print \"RegParam\"\n",
        "    # print(\"  RegParam:\", best_model._java_obj.parent().getRegParam())\n",
        "\n",
        "    model = cv.fit(train)\n",
        "    best_model = model.best_model\n",
        "    test_preditction = best_model.transform(test)\n",
        "\n",
        "    # model = als.fit(train)\n",
        "    \n",
        "    # # pred = model.transform(test)\n",
        "    \n",
        "    # # Generate 5 movie recommendations for each user\n",
        "    userRecs = best_model.recommendForAllUsers(10)\n",
        "    \n",
        "    # Creating a temp table to store recommendation\n",
        "    userRecs.registerTempTable('temp_table')\n",
        "    \n",
        "    rec_table = spark.sql('SELECT userId,\\\n",
        "                            movieIds_and_ratings.movieId AS movieId, \\\n",
        "                            movieIds_and_ratings.rating AS prediction \\\n",
        "                    FROM temp_table\\\n",
        "                    LATERAL VIEW explode(recommendations) exploded_table AS movieIds_and_ratings')\n",
        "    \n",
        "    rec_table.filter(col('userId') == 0).show()\n",
        "\n",
        "    list_of_recc_movies = rec_table.filter(col('userId') == 0).select('movieId').collect()\n",
        "    \n",
        "    for i in list_of_recc_movies:\n",
        "      try: \n",
        "\n",
        "        print(get_movie_details(i[0])['title'])\n",
        "        print(f\"Title : {get_movie_details(i[0])['title']}\")\n",
        "        poster(i[0])\n",
        "        print('\\nSummary : ')\n",
        "        print(\"\\n\".join(textwrap.wrap(get_movie_details(i[0])['overview'],100)))\n",
        "        print(\"\\n\")\n",
        "        print(\"--------------------------------------------------------------------------------------------------\")\n",
        "\n",
        "      except:\n",
        "        print(load_data().where(col('movieId') == i[0]).select('title').distinct().collect()[0].asDict()['title'])"
      ],
      "execution_count": 49,
      "outputs": []
    },
    {
      "cell_type": "code",
      "metadata": {
        "id": "tH1yi_7j2nH-"
      },
      "source": [
        ""
      ],
      "execution_count": null,
      "outputs": []
    }
  ]
}